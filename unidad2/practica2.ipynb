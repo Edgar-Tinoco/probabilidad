{
  "nbformat": 4,
  "nbformat_minor": 0,
  "metadata": {
    "colab": {
      "provenance": [],
      "authorship_tag": "ABX9TyNqe/IrEmeHFNge5Eq/gNxA",
      "include_colab_link": true
    },
    "kernelspec": {
      "name": "python3",
      "display_name": "Python 3"
    },
    "language_info": {
      "name": "python"
    }
  },
  "cells": [
    {
      "cell_type": "markdown",
      "metadata": {
        "id": "view-in-github",
        "colab_type": "text"
      },
      "source": [
        "<a href=\"https://colab.research.google.com/github/Edgar-Tinoco/probabilidad/blob/main/unidad2/practica2.ipynb\" target=\"_parent\"><img src=\"https://colab.research.google.com/assets/colab-badge.svg\" alt=\"Open In Colab\"/></a>"
      ]
    },
    {
      "cell_type": "markdown",
      "source": [
        "# **probabilida y estadisticas**\n",
        "## unidad 2\n",
        "# practca 2. maximo, minimo, rango y dispersion de datos\n",
        "\n",
        ""
      ],
      "metadata": {
        "id": "hJK2hOrdMOMB"
      }
    },
    {
      "cell_type": "code",
      "execution_count": 5,
      "metadata": {
        "id": "NhFOksAhMM6J"
      },
      "outputs": [],
      "source": [
        "import random\n",
        "import matplotlib.pyplot as plt\n",
        "from statistics import *"
      ]
    },
    {
      "cell_type": "code",
      "source": [
        "fabrica1 = []\n",
        "for i in range(100):\n",
        "  numero_aleatorio = round( random.uniform(50, 100), 2 )\n",
        "  fabrica1.append(numero_aleatorio)\n",
        "\n",
        "print(fabrica1)"
      ],
      "metadata": {
        "colab": {
          "base_uri": "https://localhost:8080/"
        },
        "id": "uJ3db6OnP0Ml",
        "outputId": "fdda669e-090d-450c-f536-1de93ef81d7f"
      },
      "execution_count": 8,
      "outputs": [
        {
          "output_type": "stream",
          "name": "stdout",
          "text": [
            "[80.21, 64.05, 61.09, 86.12, 57.37, 96.44, 62.87, 67.64, 93.35, 83.54, 84.83, 86.78, 99.11, 58.63, 76.51, 73.12, 66.95, 62.14, 99.24, 87.92, 79.98, 83.1, 75.98, 90.8, 61.05, 54.11, 86.76, 73.68, 62.3, 99.62, 84.96, 58.46, 83.23, 99.59, 92.35, 64.67, 67.38, 78.71, 88.2, 97.65, 51.59, 82.54, 69.85, 76.75, 87.01, 60.13, 91.22, 91.43, 97.78, 91.38, 62.9, 97.23, 83.29, 98.38, 53.72, 75.43, 85.9, 91.81, 67.72, 95.96, 52.22, 62.16, 60.45, 76.57, 54.7, 61.77, 96.33, 79.38, 98.66, 78.64, 70.95, 53.75, 93.68, 64.04, 65.17, 62.29, 79.8, 77.73, 66.57, 98.63, 69.46, 94.23, 59.49, 55.16, 92.67, 92.22, 55.15, 62.96, 66.88, 81.48, 98.44, 89.69, 79.97, 67.3, 93.22, 87.87, 62.89, 59.46, 96.3, 78.58]\n"
          ]
        }
      ]
    },
    {
      "cell_type": "code",
      "source": [
        "fabrica2 = []\n",
        "for i in range(100):\n",
        "  numero_aleatorio2 = round( random.uniform(40, 93), 2 )\n",
        "  fabrica2.append(numero_aleatorio2)\n",
        "print(fabrica2)"
      ],
      "metadata": {
        "colab": {
          "base_uri": "https://localhost:8080/"
        },
        "id": "DrQGl-54QeAD",
        "outputId": "35b0fe8d-db26-4e43-bf3e-a5e9432bc5ba"
      },
      "execution_count": 14,
      "outputs": [
        {
          "output_type": "stream",
          "name": "stdout",
          "text": [
            "[52.65, 66.36, 52.52, 64.02, 55.78, 50.8, 55.81, 87.16, 78.71, 67.68, 71.79, 73.25, 64.83, 76.63, 64.15, 80.7, 69.12, 52.14, 82.46, 90.91, 61.76, 71.25, 46.94, 46.9, 84.28, 89.64, 85.29, 76.58, 60.81, 65.63, 62.4, 64.49, 42.3, 69.51, 58.9, 78.64, 66.31, 88.54, 73.4, 78.24, 46.73, 62.22, 75.45, 45.27, 78.24, 69.8, 53.47, 64.95, 76.76, 51.1, 62.22, 81.06, 56.92, 40.5, 59.17, 74.11, 82.58, 66.32, 43.09, 84.09, 54.01, 60.88, 91.13, 69.6, 86.59, 60.75, 40.67, 76.42, 40.89, 63.89, 54.49, 75.32, 78.17, 91.29, 51.91, 52.9, 88.83, 70.15, 64.01, 92.64, 50.36, 76.12, 60.2, 77.83, 42.23, 86.61, 81.03, 47.42, 44.29, 83.38, 55.88, 50.34, 60.83, 92.76, 59.54, 70.15, 46.54, 69.12, 60.22, 41.59]\n"
          ]
        }
      ]
    },
    {
      "cell_type": "code",
      "source": [
        "maximo1 = max(fabrica1)\n",
        "minimo1 = min(fabrica1)\n",
        "rango1 = maximo1 - minimo1\n",
        "media1 = mean(fabrica1)\n",
        "mediana1 = median(fabrica1)\n",
        "moda1 = mode(fabrica1)\n",
        "\n",
        "print(\"estadistica descriptiva de la fabrica 1 \\n\", \"media =\", media1,\n",
        "      \"\\n mediana =\", mediana1, \"\\n moda =\", moda1, \"\\ maximo =\" , maximo1,\n",
        "      \"\\ minimo =\", minimo1, \"\\rango =\", rango1)"
      ],
      "metadata": {
        "colab": {
          "base_uri": "https://localhost:8080/"
        },
        "id": "UO3l47q5NWCy",
        "outputId": "ce7d7364-b422-4d11-afed-80dda476d773"
      },
      "execution_count": 9,
      "outputs": [
        {
          "output_type": "stream",
          "name": "stdout",
          "text": [
            "estadistica descriptiva de la fabrica 1 \n",
            " media = 77.3942 \n",
            " mediana = 78.675 \n",
            " moda = 80.21 \\ maximo = 99.62 \\ minimo = 51.59 \rango = 48.03\n"
          ]
        },
        {
          "output_type": "stream",
          "name": "stderr",
          "text": [
            "<>:9: SyntaxWarning: invalid escape sequence '\\ '\n",
            "<>:10: SyntaxWarning: invalid escape sequence '\\ '\n",
            "<>:9: SyntaxWarning: invalid escape sequence '\\ '\n",
            "<>:10: SyntaxWarning: invalid escape sequence '\\ '\n",
            "/tmp/ipython-input-3408012552.py:9: SyntaxWarning: invalid escape sequence '\\ '\n",
            "  \"\\n mediana =\", mediana1, \"\\n moda =\", moda1, \"\\ maximo =\" , maximo1,\n",
            "/tmp/ipython-input-3408012552.py:10: SyntaxWarning: invalid escape sequence '\\ '\n",
            "  \"\\ minimo =\", minimo1, \"\\rango =\", rango1)\n"
          ]
        }
      ]
    },
    {
      "cell_type": "code",
      "source": [
        "desviacion_estandar_fabrica1 = stdev(fabrica1)\n",
        "print(desviacion_estandar_fabrica1)"
      ],
      "metadata": {
        "colab": {
          "base_uri": "https://localhost:8080/"
        },
        "id": "J6Wa6kmJP5k2",
        "outputId": "91089aa4-ddee-4360-cd10-b0d913367eb0"
      },
      "execution_count": 10,
      "outputs": [
        {
          "output_type": "stream",
          "name": "stdout",
          "text": [
            "14.647730418882047\n"
          ]
        }
      ]
    },
    {
      "cell_type": "code",
      "source": [
        "desviacion_estandar_fabrica2 = stdev(fabrica2)\n",
        "print(desviacion_estandar_fabrica2)"
      ],
      "metadata": {
        "colab": {
          "base_uri": "https://localhost:8080/"
        },
        "id": "5eHmwyZnQKW8",
        "outputId": "202bf756-a4b1-427f-a89c-a0eaef416d4e"
      },
      "execution_count": 15,
      "outputs": [
        {
          "output_type": "stream",
          "name": "stdout",
          "text": [
            "14.457590833785957\n"
          ]
        }
      ]
    },
    {
      "cell_type": "code",
      "source": [
        "plt.figure(figsize=(8,6))\n",
        "plt.hist(fabrica1, bins=10, alpha=0,2, color='b', edgecolor='black')\n",
        "plt.axvline(media1, color='b', linestyle='dashed', linewidth=2, label=f'media=(media1:.2f)')\n",
        "plt.axvline(mediana1, color='r', linestyle='dashed', linewidth=2, label=f'mediana=(mediana1:.2f)')\n",
        "plt.axvline(moda1, color='y', linestyle='dashed', linewidth=2, label=f'moda=(moda1:.2f)')\n",
        "plt.axvline(media1 - desviacion_estandar_fabrica1, color='black', linestyle='dashed',\n",
        "            linewidth=2, label=f'desviacion_estandar_fabrica1=(desviacion_estandar_fabrica1:.2f)')\n",
        "plt.axvline(media1 + desviacion_estandar_fabrica1, color='black', linestyle='dashed',\n",
        "            linewidth=2, label=f'desviacion_estandar_fabrica1=(desviacion_estandar_fabrica1:.2f)')\n",
        "plt.xlabel('valor')\n",
        "plt.ylabel('frecuencia')\n",
        "plt.title(\"produccion diaria de la fabrica 1\")\n",
        "plt.legend()\n",
        "plt.show()\n"
      ],
      "metadata": {
        "colab": {
          "base_uri": "https://localhost:8080/",
          "height": 106
        },
        "id": "2mQdUT74QWZ6",
        "outputId": "bcfa8927-e0d5-48d9-8b11-f2ec60c14a74"
      },
      "execution_count": 16,
      "outputs": [
        {
          "output_type": "error",
          "ename": "SyntaxError",
          "evalue": "positional argument follows keyword argument (ipython-input-1446165503.py, line 2)",
          "traceback": [
            "\u001b[0;36m  File \u001b[0;32m\"/tmp/ipython-input-1446165503.py\"\u001b[0;36m, line \u001b[0;32m2\u001b[0m\n\u001b[0;31m    plt.hist(fabrica1, bins=10, alpha=0,2, color='b', edgecolor='black')\u001b[0m\n\u001b[0m                                                                       ^\u001b[0m\n\u001b[0;31mSyntaxError\u001b[0m\u001b[0;31m:\u001b[0m positional argument follows keyword argument\n"
          ]
        }
      ]
    }
  ]
}